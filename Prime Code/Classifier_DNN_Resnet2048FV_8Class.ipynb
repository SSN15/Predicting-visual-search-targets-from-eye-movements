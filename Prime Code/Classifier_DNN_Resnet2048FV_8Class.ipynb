{
 "cells": [
  {
   "cell_type": "code",
   "execution_count": 63,
   "metadata": {},
   "outputs": [],
   "source": [
    "import tensorflow as tf\n",
    "import pandas as pd\n",
    "\n",
    "import array \n",
    "import sklearn\n",
    "from sklearn.metrics import confusion_matrix\n",
    "import pylab as pl\n",
    "import matplotlib.pyplot as plt\n",
    "\n",
    "FilePath = \"/home/nramvinojen/Programs/Workbench/24Jan2019/\"\n",
    "ext = \".jpg\"\n",
    "\n",
    "#RunFolder = \"28Jan2019\"\n",
    "#FV_count = 2048\n",
    "#WithNeg = \"No\" # \"No\" or  \"Yes\""
   ]
  },
  {
   "cell_type": "code",
   "execution_count": null,
   "metadata": {},
   "outputs": [],
   "source": [
    "print(\"FV len :\" + str(FV_count))\n",
    "print(\"Folder :\" + RunFolder )\n",
    "print(\"WithNeg :\" + WithNeg)"
   ]
  },
  {
   "cell_type": "code",
   "execution_count": 64,
   "metadata": {},
   "outputs": [],
   "source": [
    "# If GPU is available: \n",
    "config = tf.ConfigProto()\n",
    "config.log_device_placement = True\n",
    "config.allow_soft_placement = True\n",
    "config.gpu_options.allocator_type = 'BFC'\n",
    "\n",
    "# Limit the maximum memory used\n",
    "config.gpu_options.per_process_gpu_memory_fraction = 0.1\n",
    "\n",
    "# set session config\n",
    "tf.keras.backend.set_session(tf.Session(config=config))"
   ]
  },
  {
   "cell_type": "code",
   "execution_count": 65,
   "metadata": {},
   "outputs": [
    {
     "name": "stdout",
     "output_type": "stream",
     "text": [
      "Loaded model from disk\n"
     ]
    }
   ],
   "source": [
    "# load json and create model\n",
    "from keras.models import model_from_json\n",
    "json_file = open(FilePath + \"Dataset/ModelAndWeights/\" + 'Classifier_DNN_Resnet2048FV_8Class.json', 'r')\n",
    "loaded_model_json = json_file.read()\n",
    "json_file.close()\n",
    "loaded_model = model_from_json(loaded_model_json)\n",
    "# load weights into new model\n",
    "loaded_model.load_weights(FilePath + \"Dataset/ModelAndWeights/\" + \"Classifier_DNN_Resnet2048FV_8Class.h5\")\n",
    "print(\"Loaded model from disk\")"
   ]
  },
  {
   "cell_type": "code",
   "execution_count": 66,
   "metadata": {},
   "outputs": [],
   "source": [
    "# load dataset\n",
    "\n",
    "if WithNeg == \"Yes\" :\n",
    "    dataframe = pd.read_csv(FilePath + \"Runs/\" + RunFolder + \"/RegressionOut/WithNeg/\" + \"Target_test_FV2048_Classifer.csv\", header=None)\n",
    "else :\n",
    "    dataframe = pd.read_csv(FilePath + \"Runs/\" + RunFolder + \"/RegressionOut/NegRemoved/\" + \"Target_test_FV2048_Classifer.csv\", header=None)\n",
    "\n",
    "\n",
    "X_test = dataframe.values.astype(float)\n",
    "\n"
   ]
  },
  {
   "cell_type": "code",
   "execution_count": 67,
   "metadata": {},
   "outputs": [],
   "source": [
    "predictions = loaded_model.predict(X_ans)"
   ]
  },
  {
   "cell_type": "code",
   "execution_count": 68,
   "metadata": {},
   "outputs": [
    {
     "name": "stdout",
     "output_type": "stream",
     "text": [
      "Predicted Labels\n",
      "0 6 2 0 6 6 1 0 4 0 7 0 1 1 0 1 1 1 7 3 5 5 6 5 2 7 7 7 3 4 4 4 3 2 7 3 6 5 5 2 7 3 6 5 7 7 5 6 5 0 5 6 7 1 6 6 1 6 2 6 6 6 4 7 4 6 7 7 7 1 2 7 "
     ]
    }
   ],
   "source": [
    "print(\"Predicted Labels\")\n",
    "y_pred = [0] * len(Y_ans)\n",
    "for i in range (len(Y_ans)):\n",
    "    a=list(predictions[i])\n",
    "    y_pred[i]= a.index(max(a))\n",
    "    print(a.index(max(a)),end=\" \")"
   ]
  },
  {
   "cell_type": "code",
   "execution_count": 69,
   "metadata": {},
   "outputs": [
    {
     "name": "stdout",
     "output_type": "stream",
     "text": [
      "Actual Labels\n",
      "0 0 0 0 0 0 0 0 0 1 1 1 1 1 1 1 1 1 2 2 2 2 2 2 2 2 2 3 3 3 3 3 3 3 3 3 4 4 4 4 4 4 4 4 4 5 5 5 5 5 5 5 5 5 6 6 6 6 6 6 6 6 6 7 7 7 7 7 7 7 7 7 "
     ]
    }
   ],
   "source": [
    "print(\"Actual Labels\")\n",
    "for i in range (len(Y_ans)):\n",
    "    print(int(Y_ans[i]),end=\" \")"
   ]
  },
  {
   "cell_type": "code",
   "execution_count": 70,
   "metadata": {},
   "outputs": [
    {
     "name": "stdout",
     "output_type": "stream",
     "text": [
      "\n",
      "[[3 1 1 0 1 0 3 0]\n",
      " [3 5 0 0 0 0 0 1]\n",
      " [0 0 1 1 0 3 1 3]\n",
      " [0 0 1 3 3 0 0 2]\n",
      " [0 0 1 1 0 3 2 2]\n",
      " [1 1 0 0 0 3 2 2]\n",
      " [0 1 1 0 1 0 6 0]\n",
      " [0 1 1 0 1 0 1 5]]\n"
     ]
    }
   ],
   "source": [
    "Y_test = Y_ans\n",
    "cm = confusion_matrix(Y_ans, y_pred)\n",
    "print(\"\")\n",
    "print(cm)"
   ]
  },
  {
   "cell_type": "code",
   "execution_count": 71,
   "metadata": {},
   "outputs": [
    {
     "data": {
      "image/png": "[encoded data removed]",
      "text/plain": [
       "<Figure size 432x288 with 2 Axes>"
      ]
     },
     "metadata": {},
     "output_type": "display_data"
    }
   ],
   "source": [
    "labels = [' 0', ' 1', ' 2', ' 3', ' 4', ' 5',' 6', ' 7']\n",
    "fig = plt.figure()\n",
    "ax = fig.add_subplot(111)\n",
    "cax = ax.matshow(cm)\n",
    "plt.title('Confusion matrix of the Prediction')\n",
    "fig.colorbar(cax)\n",
    "ax.set_xticklabels([''] + labels)\n",
    "ax.set_yticklabels( [''] + labels)\n",
    "plt.xlabel('Predicted')\n",
    "plt.ylabel('True')\n",
    "plt.show()"
   ]
  },
  {
   "cell_type": "code",
   "execution_count": null,
   "metadata": {},
   "outputs": [],
   "source": [
    "target = ['0','1','2','3','4','5','6','7']"
   ]
  },
  {
   "cell_type": "code",
   "execution_count": 59,
   "metadata": {},
   "outputs": [
    {
     "name": "stdout",
     "output_type": "stream",
     "text": [
      "\n",
      " Summary of the precision, recall, F1 score for each class:\n",
      "             precision    recall  f1-score   support\n",
      "\n",
      "        0.0       0.43      0.33      0.38         9\n",
      "        1.0       0.56      0.56      0.56         9\n",
      "        2.0       0.17      0.11      0.13         9\n",
      "        3.0       0.60      0.33      0.43         9\n",
      "        4.0       0.00      0.00      0.00         9\n",
      "        5.0       0.33      0.33      0.33         9\n",
      "        6.0       0.40      0.67      0.50         9\n",
      "        7.0       0.33      0.56      0.42         9\n",
      "\n",
      "avg / total       0.35      0.36      0.34        72\n",
      "\n"
     ]
    }
   ],
   "source": [
    "print ('\\n Summary for each class:')\n",
    "print (sklearn.metrics.classification_report(Y_ans, y_pred, target_names=target))"
   ]
  },
  {
   "cell_type": "code",
   "execution_count": null,
   "metadata": {},
   "outputs": [],
   "source": []
  }
 ],
 "metadata": {
  "kernelspec": {
   "display_name": "Python 3",
   "language": "python",
   "name": "python3"
  },
  "language_info": {
   "codemirror_mode": {
    "name": "ipython",
    "version": 3
   },
   "file_extension": ".py",
   "mimetype": "text/x-python",
   "name": "python",
   "nbconvert_exporter": "python",
   "pygments_lexer": "ipython3",
   "version": "3.6.7"
  }
 },
 "nbformat": 4,
 "nbformat_minor": 2
}
