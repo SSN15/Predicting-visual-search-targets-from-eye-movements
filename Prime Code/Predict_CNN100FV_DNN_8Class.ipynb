{
 "cells": [
  {
   "cell_type": "code",
   "execution_count": 59,
   "metadata": {},
   "outputs": [],
   "source": [
    "import tensorflow as tf\n",
    "import pandas as pd\n",
    "\n",
    "import array \n",
    "import sklearn\n",
    "from sklearn.metrics import confusion_matrix\n",
    "import pylab as pl\n",
    "import matplotlib.pyplot as plt\n",
    "\n",
    "FilePath = \"/home/nramvinojen/Programs/Workbench/24Jan2019/\"\n",
    "ext = \".jpg\"\n",
    "\n",
    "RunFolder = \"28Jan2019\"\n",
    "FV_count = 100"
   ]
  },
  {
   "cell_type": "code",
   "execution_count": 60,
   "metadata": {},
   "outputs": [],
   "source": [
    "# If GPU is available: \n",
    "config = tf.ConfigProto()\n",
    "config.log_device_placement = True\n",
    "config.allow_soft_placement = True\n",
    "config.gpu_options.allocator_type = 'BFC'\n",
    "\n",
    "# Limit the maximum memory used\n",
    "config.gpu_options.per_process_gpu_memory_fraction = 0.1\n",
    "\n",
    "# set session config\n",
    "tf.keras.backend.set_session(tf.Session(config=config))"
   ]
  },
  {
   "cell_type": "code",
   "execution_count": 61,
   "metadata": {},
   "outputs": [
    {
     "name": "stdout",
     "output_type": "stream",
     "text": [
      "_________________________________________________________________\n",
      "Layer (type)                 Output Shape              Param #   \n",
      "=================================================================\n",
      "dense_64 (Dense)             (None, 30)                3030      \n",
      "_________________________________________________________________\n",
      "dropout_29 (Dropout)         (None, 30)                0         \n",
      "_________________________________________________________________\n",
      "batch_normalization_29 (Batc (None, 30)                120       \n",
      "_________________________________________________________________\n",
      "dense_65 (Dense)             (None, 8)                 248       \n",
      "=================================================================\n",
      "Total params: 3,398\n",
      "Trainable params: 3,338\n",
      "Non-trainable params: 60\n",
      "_________________________________________________________________\n"
     ]
    }
   ],
   "source": [
    "# load json and create model\n",
    "#from keras.models import model_from_json\n",
    "#json_file = open(FilePath  + \"Runs/\" + RunFolder + \"/ModelsAndWeights/321738_100FV_CNN_8Class.json\", 'r')\n",
    "#loaded_model_json = json_file.read()\n",
    "#json_file.close()\n",
    "#loaded_model = model_from_json(loaded_model_json)\n",
    "# load weights into new model\n",
    "#loaded_model.load_weights(FilePath + \"Runs/\" + RunFolder + \"/ModelsAndWeights/321729_100FV_CNN_8Class_te23_tr30.h5\")\n",
    "#print(\"Loaded model from disk\")\n",
    "\n",
    "\n",
    "loaded_model = tf.keras.models.load_model(FilePath + \"Runs/\" + RunFolder + \"/ModelsAndWeights/ModandWeig_100FV_CNN_8Class_Tr28_Te23.h5\")\n",
    "loaded_model.summary()"
   ]
  },
  {
   "cell_type": "code",
   "execution_count": 62,
   "metadata": {},
   "outputs": [
    {
     "data": {
      "text/plain": [
       "(72, 100)"
      ]
     },
     "execution_count": 62,
     "metadata": {},
     "output_type": "execute_result"
    }
   ],
   "source": [
    "# load dataset\n",
    "dataframe = pd.read_csv(FilePath +\"Runs/\" + RunFolder + \"/FV100_CNN/Fixation_WeightedSum_Combined_Csv/Test_CombinedFixation_FeatureVector.csv\", header=None)\n",
    "X_test = dataframe.values\n",
    "# load dataset\n",
    "dataframe = pd.read_csv(FilePath +\"Runs/\" + RunFolder + \"/FV100_CNN/Test_Label.csv\", header=None)\n",
    "Y_testtemp = dataframe.values\n",
    "Y_test = Y_testtemp[:,0]\n",
    "X_test.shape"
   ]
  },
  {
   "cell_type": "code",
   "execution_count": 63,
   "metadata": {},
   "outputs": [],
   "source": [
    "predictions = loaded_model.predict(X_test)"
   ]
  },
  {
   "cell_type": "code",
   "execution_count": 64,
   "metadata": {},
   "outputs": [],
   "source": [
    "#print(\"Predicted Labels\")\n",
    "y_pred = [0] * len(Y_test)\n",
    "for i in range (len(Y_test)):\n",
    "    a=list(predictions[i])\n",
    "    y_pred[i]= a.index(max(a))\n",
    "   #print(a.index(max(a)),end=\" \")"
   ]
  },
  {
   "cell_type": "code",
   "execution_count": 65,
   "metadata": {},
   "outputs": [],
   "source": [
    "#print(\"Actual Labels\")\n",
    "#for i in range (len(Y_test)):\n",
    "   # print(int(Y_test[i]),end=\" \")"
   ]
  },
  {
   "cell_type": "code",
   "execution_count": 66,
   "metadata": {},
   "outputs": [
    {
     "name": "stdout",
     "output_type": "stream",
     "text": [
      "\n",
      "[[4 0 0 1 0 3 0 1]\n",
      " [3 1 2 1 1 0 0 1]\n",
      " [5 0 0 1 1 0 0 2]\n",
      " [4 1 0 3 0 1 0 0]\n",
      " [1 0 0 3 3 2 0 0]\n",
      " [0 0 0 0 1 6 1 1]\n",
      " [2 0 0 3 0 2 2 0]\n",
      " [1 0 0 1 6 0 0 1]]\n"
     ]
    }
   ],
   "source": [
    "cm = confusion_matrix(Y_test, y_pred)\n",
    "print(\"\")\n",
    "print(cm)"
   ]
  },
  {
   "cell_type": "code",
   "execution_count": 67,
   "metadata": {},
   "outputs": [
    {
     "data": {
      "image/png": "[encoded data removed]",
      "text/plain": [
       "<Figure size 432x288 with 2 Axes>"
      ]
     },
     "metadata": {},
     "output_type": "display_data"
    }
   ],
   "source": [
    "labels = [' 0', ' 1', ' 2', ' 3', ' 4', ' 5',' 6', ' 7']\n",
    "fig = plt.figure()\n",
    "ax = fig.add_subplot(111)\n",
    "cax = ax.matshow(cm)\n",
    "plt.title('Confusion matrix of the Prediction')\n",
    "fig.colorbar(cax)\n",
    "ax.set_xticklabels([''] + labels)\n",
    "ax.set_yticklabels( [''] + labels)\n",
    "plt.xlabel('Predicted')\n",
    "plt.ylabel('True')\n",
    "plt.show()"
   ]
  },
  {
   "cell_type": "code",
   "execution_count": 68,
   "metadata": {},
   "outputs": [
    {
     "name": "stdout",
     "output_type": "stream",
     "text": [
      "\n",
      " Summary for each class:\n",
      "             precision    recall  f1-score   support\n",
      "\n",
      "          0       0.20      0.44      0.28         9\n",
      "          1       0.50      0.11      0.18         9\n",
      "          2       0.00      0.00      0.00         9\n",
      "          3       0.23      0.33      0.27         9\n",
      "          4       0.25      0.33      0.29         9\n",
      "          5       0.43      0.67      0.52         9\n",
      "          6       0.67      0.22      0.33         9\n",
      "          7       0.17      0.11      0.13         9\n",
      "\n",
      "avg / total       0.31      0.28      0.25        72\n",
      "\n"
     ]
    }
   ],
   "source": [
    "print ('\\n Summary for each class:')\n",
    "print (sklearn.metrics.classification_report(Y_test, y_pred))"
   ]
  }
 ],
 "metadata": {
  "kernelspec": {
   "display_name": "Python 3",
   "language": "python",
   "name": "python3"
  },
  "language_info": {
   "codemirror_mode": {
    "name": "ipython",
    "version": 3
   },
   "file_extension": ".py",
   "mimetype": "text/x-python",
   "name": "python",
   "nbconvert_exporter": "python",
   "pygments_lexer": "ipython3",
   "version": "3.6.7"
  }
 },
 "nbformat": 4,
 "nbformat_minor": 2
}
