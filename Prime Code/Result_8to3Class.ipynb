{
 "cells": [
  {
   "cell_type": "code",
   "execution_count": null,
   "metadata": {},
   "outputs": [],
   "source": [
    "Y_test_3Class = [0]*len(Y_test)\n",
    "for i in range(len(Y_test)):\n",
    "    if Y_test[i] < 3 : \n",
    "        Y_test_3Class[i] = 0\n",
    "    elif Y_test[i] < 6 : \n",
    "        Y_test_3Class[i] = 1\n",
    "    else :\n",
    "        Y_test_3Class[i] = 2\n",
    "\n",
    "Y_pred_3Class = [0]*len(y_pred)\n",
    "for i in range(len(y_pred)):\n",
    "    if y_pred[i] < 3 : \n",
    "        Y_pred_3Class[i] = 0\n",
    "    elif y_pred[i] < 6 : \n",
    "        Y_pred_3Class[i] = 1\n",
    "    else :\n",
    "        Y_pred_3Class[i] = 2"
   ]
  },
  {
   "cell_type": "code",
   "execution_count": null,
   "metadata": {},
   "outputs": [],
   "source": [
    "from sklearn.metrics import confusion_matrix\n",
    "cm = confusion_matrix(Y_test_3Class, Y_pred_3Class)\n",
    "print(\"\")\n",
    "print(cm)"
   ]
  },
  {
   "cell_type": "code",
   "execution_count": null,
   "metadata": {},
   "outputs": [],
   "source": [
    "cm_norm = [0,0,0], [0,0,0], [0,0,0]\n",
    "for h in range(3):\n",
    "    for i in range(3):\n",
    "        cm_norm[h][i]= cm[h][i]/sum(cm[h])"
   ]
  },
  {
   "cell_type": "code",
   "execution_count": null,
   "metadata": {},
   "outputs": [],
   "source": [
    "labels = [' 0', ' 1', ' 2']\n",
    "fig = plt.figure()\n",
    "ax = fig.add_subplot(111)\n",
    "cax = ax.matshow(cm_norm)\n",
    "plt.title('Confusion matrix of the Prediction')\n",
    "fig.colorbar(cax)\n",
    "ax.set_xticklabels([''] + labels)\n",
    "ax.set_yticklabels( [''] + labels)\n",
    "plt.xlabel('Predicted')\n",
    "plt.ylabel('True')\n",
    "plt.show()"
   ]
  },
  {
   "cell_type": "code",
   "execution_count": null,
   "metadata": {},
   "outputs": [],
   "source": [
    "print ('\\n Summary for each class:')\n",
    "print (sklearn.metrics.classification_report(Y_test_3Class, Y_pred_3Class))"
   ]
  },
  {
   "cell_type": "code",
   "execution_count": null,
   "metadata": {},
   "outputs": [],
   "source": []
  }
 ],
 "metadata": {
  "kernelspec": {
   "display_name": "Python 3",
   "language": "python",
   "name": "python3"
  },
  "language_info": {
   "codemirror_mode": {
    "name": "ipython",
    "version": 3
   },
   "file_extension": ".py",
   "mimetype": "text/x-python",
   "name": "python",
   "nbconvert_exporter": "python",
   "pygments_lexer": "ipython3",
   "version": "3.6.7"
  }
 },
 "nbformat": 4,
 "nbformat_minor": 2
}
