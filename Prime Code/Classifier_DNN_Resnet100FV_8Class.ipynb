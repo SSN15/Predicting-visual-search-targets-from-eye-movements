{
 "cells": [
  {
   "cell_type": "code",
   "execution_count": 1,
   "metadata": {},
   "outputs": [
    {
     "name": "stderr",
     "output_type": "stream",
     "text": [
      "/usr/local/lib/python3.6/dist-packages/h5py/__init__.py:36: FutureWarning: Conversion of the second argument of issubdtype from `float` to `np.floating` is deprecated. In future, it will be treated as `np.float64 == np.dtype(float).type`.\n",
      "  from ._conv import register_converters as _register_converters\n"
     ]
    }
   ],
   "source": [
    "import tensorflow as tf\n",
    "import pandas as pd\n",
    "\n",
    "import array \n",
    "import sklearn\n",
    "from sklearn.metrics import confusion_matrix\n",
    "import pylab as pl\n",
    "import matplotlib.pyplot as plt\n",
    "\n",
    "FilePath = \"/home/nramvinojen/Programs/Workbench/24Jan2019/\"\n",
    "ext = \".jpg\"\n",
    "\n",
    "#RunFolder = \"28Jan2019\"\n",
    "#FV_count = 100"
   ]
  },
  {
   "cell_type": "code",
   "execution_count": 2,
   "metadata": {},
   "outputs": [],
   "source": [
    "# If GPU is available: \n",
    "config = tf.ConfigProto()\n",
    "config.log_device_placement = True\n",
    "config.allow_soft_placement = True\n",
    "config.gpu_options.allocator_type = 'BFC'\n",
    "\n",
    "# Limit the maximum memory used\n",
    "config.gpu_options.per_process_gpu_memory_fraction = 0.1\n",
    "\n",
    "# set session config\n",
    "tf.keras.backend.set_session(tf.Session(config=config))"
   ]
  },
  {
   "cell_type": "code",
   "execution_count": 3,
   "metadata": {},
   "outputs": [
    {
     "name": "stderr",
     "output_type": "stream",
     "text": [
      "Using TensorFlow backend.\n"
     ]
    },
    {
     "name": "stdout",
     "output_type": "stream",
     "text": [
      "Loaded model from disk\n"
     ]
    }
   ],
   "source": [
    "# load json and create model\n",
    "from keras.models import model_from_json\n",
    "json_file = open(FilePath + \"Dataset/ModelAndWeights/\" + 'Classifier_DNN_100FV_8Class.json', 'r')\n",
    "loaded_model_json = json_file.read()\n",
    "json_file.close()\n",
    "loaded_model = model_from_json(loaded_model_json)\n",
    "# load weights into new model\n",
    "loaded_model.load_weights(FilePath + \"Dataset/ModelAndWeights/\" + \"Classifier_DNN_100FV_8Class.h5\")\n",
    "print(\"Loaded model from disk\")"
   ]
  },
  {
   "cell_type": "code",
   "execution_count": 4,
   "metadata": {},
   "outputs": [],
   "source": [
    "# load dataset\n",
    "dataframe = pd.read_csv(FilePath + \"Runs/\" + RunFolder + \"/RegressionOut/NegRemoved/\" + \"Target_test_FV100_Classifer.csv\", header=None)\n",
    "dataset = dataframe.values\n",
    "X_ans = dataset[:,0:100].astype(float)\n",
    "\n",
    "\n",
    "dataframe = pd.read_csv(FilePath +\"Runs/\" + RunFolder + \"/FV2048_Resnet/Test_Label.csv\", header=None)\n",
    "Ytest_temp = dataframe.values\n",
    "Y_ans = Ytest_temp[:,0]"
   ]
  },
  {
   "cell_type": "code",
   "execution_count": 5,
   "metadata": {},
   "outputs": [],
   "source": [
    "predictions = loaded_model.predict(X_ans)"
   ]
  },
  {
   "cell_type": "code",
   "execution_count": 6,
   "metadata": {},
   "outputs": [
    {
     "name": "stdout",
     "output_type": "stream",
     "text": [
      "Predicted Labels\n",
      "6 3 4 2 3 2 2 6 2 6 3 4 4 4 3 2 3 4 2 4 6 2 4 4 2 2 3 4 4 2 5 4 4 4 3 6 3 3 3 4 4 4 5 3 4 3 3 3 6 6 4 3 2 3 6 4 4 3 4 6 6 6 3 3 4 3 2 5 3 6 4 3 "
     ]
    }
   ],
   "source": [
    "print(\"Predicted Labels\")\n",
    "y_pred = [0] * len(Y_ans)\n",
    "for i in range (len(Y_ans)):\n",
    "    a=list(predictions[i])\n",
    "    y_pred[i]= a.index(max(a))\n",
    "    print(a.index(max(a)),end=\" \")"
   ]
  },
  {
   "cell_type": "code",
   "execution_count": 7,
   "metadata": {},
   "outputs": [
    {
     "name": "stdout",
     "output_type": "stream",
     "text": [
      "Actual Labels\n",
      "0 0 0 0 0 0 0 0 0 1 1 1 1 1 1 1 1 1 2 2 2 2 2 2 2 2 2 3 3 3 3 3 3 3 3 3 4 4 4 4 4 4 4 4 4 5 5 5 5 5 5 5 5 5 6 6 6 6 6 6 6 6 6 7 7 7 7 7 7 7 7 7 "
     ]
    }
   ],
   "source": [
    "print(\"Actual Labels\")\n",
    "for i in range (len(Y_ans)):\n",
    "    print(int(Y_ans[i]),end=\" \")"
   ]
  },
  {
   "cell_type": "code",
   "execution_count": 8,
   "metadata": {},
   "outputs": [
    {
     "name": "stdout",
     "output_type": "stream",
     "text": [
      "\n",
      "[[0 0 4 2 1 0 2 0]\n",
      " [0 0 1 3 4 0 1 0]\n",
      " [0 0 4 1 3 0 1 0]\n",
      " [0 0 1 1 5 1 1 0]\n",
      " [0 0 0 4 4 1 0 0]\n",
      " [0 0 1 5 1 0 2 0]\n",
      " [0 0 0 2 3 0 4 0]\n",
      " [0 0 1 4 2 1 1 0]]\n"
     ]
    }
   ],
   "source": [
    "Y_test = Y_ans\n",
    "cm = confusion_matrix(Y_ans, y_pred)\n",
    "print(\"\")\n",
    "print(cm)"
   ]
  },
  {
   "cell_type": "code",
   "execution_count": 9,
   "metadata": {},
   "outputs": [
    {
     "data": {
      "image/png": "[encoded data removed]",
      "text/plain": [
       "<Figure size 432x288 with 2 Axes>"
      ]
     },
     "metadata": {},
     "output_type": "display_data"
    }
   ],
   "source": [
    "labels = [' 0', ' 1', ' 2', ' 3', ' 4', ' 5',' 6', ' 7']\n",
    "fig = plt.figure()\n",
    "ax = fig.add_subplot(111)\n",
    "cax = ax.matshow(cm)\n",
    "plt.title('Confusion matrix of the Prediction')\n",
    "fig.colorbar(cax)\n",
    "ax.set_xticklabels([''] + labels)\n",
    "ax.set_yticklabels( [''] + labels)\n",
    "plt.xlabel('Predicted')\n",
    "plt.ylabel('True')\n",
    "plt.show()"
   ]
  },
  {
   "cell_type": "code",
   "execution_count": 10,
   "metadata": {},
   "outputs": [],
   "source": [
    "target = ['0','1','2','3','4','5','6','7']"
   ]
  },
  {
   "cell_type": "code",
   "execution_count": 11,
   "metadata": {},
   "outputs": [
    {
     "name": "stdout",
     "output_type": "stream",
     "text": [
      "\n",
      " Summary for each class:\n",
      "             precision    recall  f1-score   support\n",
      "\n",
      "          0       0.00      0.00      0.00         9\n",
      "          1       0.00      0.00      0.00         9\n",
      "          2       0.33      0.44      0.38         9\n",
      "          3       0.05      0.11      0.06         9\n",
      "          4       0.17      0.44      0.25         9\n",
      "          5       0.00      0.00      0.00         9\n",
      "          6       0.33      0.44      0.38         9\n",
      "          7       0.00      0.00      0.00         9\n",
      "\n",
      "avg / total       0.11      0.18      0.13        72\n",
      "\n"
     ]
    },
    {
     "name": "stderr",
     "output_type": "stream",
     "text": [
      "/usr/local/lib/python3.6/dist-packages/sklearn/metrics/classification.py:1135: UndefinedMetricWarning: Precision and F-score are ill-defined and being set to 0.0 in labels with no predicted samples.\n",
      "  'precision', 'predicted', average, warn_for)\n"
     ]
    }
   ],
   "source": [
    "print ('\\n Summary for each class:')\n",
    "print (sklearn.metrics.classification_report(Y_ans, y_pred, target_names=target))"
   ]
  },
  {
   "cell_type": "code",
   "execution_count": null,
   "metadata": {},
   "outputs": [],
   "source": []
  }
 ],
 "metadata": {
  "kernelspec": {
   "display_name": "Python 3",
   "language": "python",
   "name": "python3"
  },
  "language_info": {
   "codemirror_mode": {
    "name": "ipython",
    "version": 3
   },
   "file_extension": ".py",
   "mimetype": "text/x-python",
   "name": "python",
   "nbconvert_exporter": "python",
   "pygments_lexer": "ipython3",
   "version": "3.6.7"
  }
 },
 "nbformat": 4,
 "nbformat_minor": 2
}
