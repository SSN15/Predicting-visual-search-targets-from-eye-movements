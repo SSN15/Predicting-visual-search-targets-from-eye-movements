{
 "cells": [
  {
   "cell_type": "code",
   "execution_count": 1,
   "metadata": {},
   "outputs": [],
   "source": [
    "CodePath = \"/home/nramvinojen/Programs/Workbench/24Jan2019/\"\n",
    "FV_count = 100\n",
    "RunFolder = \"28Jan2019\""
   ]
  },
  {
   "cell_type": "code",
   "execution_count": null,
   "metadata": {},
   "outputs": [],
   "source": [
    "#%run \"/home/nramvinojen/Programs/Workbench/24Jan2019/SecondCode/MakeFolderStructure.ipynb\""
   ]
  },
  {
   "cell_type": "code",
   "execution_count": null,
   "metadata": {},
   "outputs": [],
   "source": [
    "FramesFolder = \"Frames_LoG1\"\n",
    "width = 224\n",
    "height = 224\n",
    "#%run \"/home/nramvinojen/Programs/Workbench/24Jan2019/PrimeCode/ResizeFrames.ipynb\""
   ]
  },
  {
   "cell_type": "code",
   "execution_count": null,
   "metadata": {},
   "outputs": [],
   "source": [
    "#%run \"/home/nramvinojen/Programs/Workbench/24Jan2019/PrimeCode/CNN_FV100.ipynb\""
   ]
  },
  {
   "cell_type": "code",
   "execution_count": 4,
   "metadata": {},
   "outputs": [
    {
     "name": "stdout",
     "output_type": "stream",
     "text": [
      "_________________________________________________________________\n",
      "Layer (type)                 Output Shape              Param #   \n",
      "=================================================================\n",
      "dense_80 (Dense)             (None, 32)                3232      \n",
      "_________________________________________________________________\n",
      "dropout_37 (Dropout)         (None, 32)                0         \n",
      "_________________________________________________________________\n",
      "batch_normalization_37 (Batc (None, 32)                128       \n",
      "_________________________________________________________________\n",
      "dense_81 (Dense)             (None, 8)                 264       \n",
      "=================================================================\n",
      "Total params: 3,624\n",
      "Trainable params: 3,560\n",
      "Non-trainable params: 64\n",
      "_________________________________________________________________\n",
      "\n",
      "[[1 2 0 4 0 1 0 1]\n",
      " [2 3 0 2 1 0 0 1]\n",
      " [1 2 1 3 0 0 0 2]\n",
      " [2 2 0 4 0 1 0 0]\n",
      " [2 2 2 0 0 1 0 2]\n",
      " [0 2 2 2 0 1 1 1]\n",
      " [1 2 0 3 0 1 1 1]\n",
      " [0 1 0 3 1 0 1 3]]\n"
     ]
    },
    {
     "data": {
      "image/png": "[encoded data removed]",
      "text/plain": [
       "<Figure size 432x288 with 2 Axes>"
      ]
     },
     "metadata": {},
     "output_type": "display_data"
    },
    {
     "name": "stdout",
     "output_type": "stream",
     "text": [
      "\n",
      " Summary for each class:\n",
      "             precision    recall  f1-score   support\n",
      "\n",
      "          0       0.11      0.11      0.11         9\n",
      "          1       0.19      0.33      0.24         9\n",
      "          2       0.20      0.11      0.14         9\n",
      "          3       0.19      0.44      0.27         9\n",
      "          4       0.00      0.00      0.00         9\n",
      "          5       0.20      0.11      0.14         9\n",
      "          6       0.33      0.11      0.17         9\n",
      "          7       0.27      0.33      0.30         9\n",
      "\n",
      "avg / total       0.19      0.19      0.17        72\n",
      "\n"
     ]
    }
   ],
   "source": [
    "%run \"/home/nramvinojen/Programs/Workbench/24Jan2019/PrimeCode/Predict_CNN100FV_DNN_8Class.ipynb\""
   ]
  },
  {
   "cell_type": "code",
   "execution_count": 5,
   "metadata": {},
   "outputs": [
    {
     "name": "stdout",
     "output_type": "stream",
     "text": [
      "\n",
      "[[12 11  4]\n",
      " [14  9  4]\n",
      " [ 4  8  6]]\n"
     ]
    },
    {
     "data": {
      "image/png": "[encoded data removed]",
      "text/plain": [
       "<Figure size 432x288 with 2 Axes>"
      ]
     },
     "metadata": {},
     "output_type": "display_data"
    },
    {
     "name": "stdout",
     "output_type": "stream",
     "text": [
      "\n",
      " Summary for each class:\n",
      "             precision    recall  f1-score   support\n",
      "\n",
      "          0       0.40      0.44      0.42        27\n",
      "          1       0.32      0.33      0.33        27\n",
      "          2       0.43      0.33      0.38        18\n",
      "\n",
      "avg / total       0.38      0.38      0.37        72\n",
      "\n"
     ]
    }
   ],
   "source": [
    "%run \"/home/nramvinojen/Programs/Workbench/24Jan2019/PrimeCode/Result_8to3Class.ipynb\""
   ]
  },
  {
   "cell_type": "code",
   "execution_count": null,
   "metadata": {},
   "outputs": [],
   "source": []
  }
 ],
 "metadata": {
  "kernelspec": {
   "display_name": "Python 3",
   "language": "python",
   "name": "python3"
  },
  "language_info": {
   "codemirror_mode": {
    "name": "ipython",
    "version": 3
   },
   "file_extension": ".py",
   "mimetype": "text/x-python",
   "name": "python",
   "nbconvert_exporter": "python",
   "pygments_lexer": "ipython3",
   "version": "3.6.7"
  }
 },
 "nbformat": 4,
 "nbformat_minor": 2
}
