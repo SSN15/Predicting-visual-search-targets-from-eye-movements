{
 "cells": [
  {
   "cell_type": "code",
   "execution_count": 2,
   "metadata": {},
   "outputs": [],
   "source": [
    "CodePath = \"/home/nramvinojen/Programs/Workbench/24Jan2019/\"\n",
    "FV_count = 2048\n",
    "RunFolder = \"28Jan2019\""
   ]
  },
  {
   "cell_type": "code",
   "execution_count": null,
   "metadata": {},
   "outputs": [],
   "source": [
    "#%run \"/home/nramvinojen/Programs/Workbench/24Jan2019/SecondCode/MakeFolderStructure.ipynb\""
   ]
  },
  {
   "cell_type": "code",
   "execution_count": null,
   "metadata": {},
   "outputs": [],
   "source": [
    "FramesFolder = \"Frames_LoG1\"\n",
    "width = 224\n",
    "height = 224\n",
    "#%run \"/home/nramvinojen/Programs/Workbench/24Jan2019/PrimeCode/ResizeFrames.ipynb\""
   ]
  },
  {
   "cell_type": "code",
   "execution_count": null,
   "metadata": {},
   "outputs": [],
   "source": [
    "#%run \"/home/nramvinojen/Programs/Workbench/24Jan2019/PrimeCode/ResnetFV2048.ipynb\""
   ]
  },
  {
   "cell_type": "code",
   "execution_count": null,
   "metadata": {},
   "outputs": [],
   "source": [
    "#%run \"/home/nramvinojen/Programs/Workbench/24Jan2019/PrimeCode/ReduceFV_2048toNewFVlen.ipynb"
   ]
  },
  {
   "cell_type": "code",
   "execution_count": null,
   "metadata": {},
   "outputs": [],
   "source": [
    "#%run \"/home/nramvinojen/Programs/Workbench/24Jan2019/PrimeCode/Model_Predict_100FV_DNN_8class.ipynb"
   ]
  },
  {
   "cell_type": "code",
   "execution_count": 3,
   "metadata": {},
   "outputs": [
    {
     "name": "stdout",
     "output_type": "stream",
     "text": [
      "Loaded model from disk\n",
      "_________________________________________________________________\n",
      "Layer (type)                 Output Shape              Param #   \n",
      "=================================================================\n",
      "dense_55 (Dense)             (None, 28)                2828      \n",
      "_________________________________________________________________\n",
      "dropout_28 (Dropout)         (None, 28)                0         \n",
      "_________________________________________________________________\n",
      "dense_56 (Dense)             (None, 8)                 232       \n",
      "=================================================================\n",
      "Total params: 3,060\n",
      "Trainable params: 3,060\n",
      "Non-trainable params: 0\n",
      "_________________________________________________________________\n",
      "\n",
      "[[4 1 0 0 0 2 1 1]\n",
      " [0 7 0 0 1 0 1 0]\n",
      " [2 0 3 2 0 1 1 0]\n",
      " [0 0 1 3 3 0 0 2]\n",
      " [0 0 2 1 3 1 0 2]\n",
      " [1 0 0 1 3 3 1 0]\n",
      " [0 0 1 0 0 0 8 0]\n",
      " [0 1 0 0 2 0 0 6]]\n"
     ]
    },
    {
     "data": {
      "image/png": "[encoded data removed]",
      "text/plain": [
       "<Figure size 432x288 with 2 Axes>"
      ]
     },
     "metadata": {},
     "output_type": "display_data"
    },
    {
     "name": "stdout",
     "output_type": "stream",
     "text": [
      "\n",
      " Summary for each class:\n",
      "             precision    recall  f1-score   support\n",
      "\n",
      "          0       0.57      0.44      0.50         9\n",
      "          1       0.78      0.78      0.78         9\n",
      "          2       0.43      0.33      0.38         9\n",
      "          3       0.43      0.33      0.38         9\n",
      "          4       0.25      0.33      0.29         9\n",
      "          5       0.43      0.33      0.38         9\n",
      "          6       0.67      0.89      0.76         9\n",
      "          7       0.55      0.67      0.60         9\n",
      "\n",
      "avg / total       0.51      0.51      0.51        72\n",
      "\n"
     ]
    }
   ],
   "source": [
    "%run \"/home/nramvinojen/Programs/Workbench/24Jan2019/PrimeCode/Predict_100FV_DNN_8Class.ipynb\""
   ]
  },
  {
   "cell_type": "code",
   "execution_count": 4,
   "metadata": {},
   "outputs": [
    {
     "name": "stdout",
     "output_type": "stream",
     "text": [
      "\n",
      "[[17  6  4]\n",
      " [ 4 18  5]\n",
      " [ 2  2 14]]\n"
     ]
    },
    {
     "data": {
      "image/png": "[encoded data removed]",
      "text/plain": [
       "<Figure size 432x288 with 2 Axes>"
      ]
     },
     "metadata": {},
     "output_type": "display_data"
    },
    {
     "name": "stdout",
     "output_type": "stream",
     "text": [
      "\n",
      " Summary for each class:\n",
      "             precision    recall  f1-score   support\n",
      "\n",
      "          0       0.74      0.63      0.68        27\n",
      "          1       0.69      0.67      0.68        27\n",
      "          2       0.61      0.78      0.68        18\n",
      "\n",
      "avg / total       0.69      0.68      0.68        72\n",
      "\n"
     ]
    }
   ],
   "source": [
    "%run \"/home/nramvinojen/Programs/Workbench/24Jan2019/PrimeCode/Result_8to3Class.ipynb\""
   ]
  },
  {
   "cell_type": "code",
   "execution_count": null,
   "metadata": {},
   "outputs": [],
   "source": []
  }
 ],
 "metadata": {
  "kernelspec": {
   "display_name": "Python 3",
   "language": "python",
   "name": "python3"
  },
  "language_info": {
   "codemirror_mode": {
    "name": "ipython",
    "version": 3
   },
   "file_extension": ".py",
   "mimetype": "text/x-python",
   "name": "python",
   "nbconvert_exporter": "python",
   "pygments_lexer": "ipython3",
   "version": "3.6.7"
  }
 },
 "nbformat": 4,
 "nbformat_minor": 2
}
