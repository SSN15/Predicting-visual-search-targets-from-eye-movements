{
 "cells": [
  {
   "cell_type": "code",
   "execution_count": 1,
   "metadata": {},
   "outputs": [],
   "source": [
    "CodePath = \"/home/nramvinojen/Programs/Workbench/24Jan2019/\"\n",
    "FV_count = 2048\n",
    "RunFolder = \"03Feb2019\""
   ]
  },
  {
   "cell_type": "code",
   "execution_count": null,
   "metadata": {},
   "outputs": [],
   "source": [
    "#%run \"/home/nramvinojen/Programs/Workbench/24Jan2019/SecondCode/MakeFolderStructure.ipynb\""
   ]
  },
  {
   "cell_type": "code",
   "execution_count": null,
   "metadata": {},
   "outputs": [],
   "source": [
    "FramesFolder = \"Frames_LoG1\"\n",
    "width = 224\n",
    "height = 224\n",
    "#%run \"/home/nramvinojen/Programs/Workbench/24Jan2019/PrimeCode/ResizeFrames.ipynb\""
   ]
  },
  {
   "cell_type": "code",
   "execution_count": null,
   "metadata": {},
   "outputs": [],
   "source": [
    "#%run \"/home/nramvinojen/Programs/Workbench/24Jan2019/PrimeCode/ResnetFV2048.ipynb\""
   ]
  },
  {
   "cell_type": "code",
   "execution_count": null,
   "metadata": {},
   "outputs": [],
   "source": [
    "#%run \"/home/nramvinojen/Programs/Workbench/24Jan2019/PrimeCode/ReduceFV_2048toNewFVlen.ipynb"
   ]
  },
  {
   "cell_type": "code",
   "execution_count": null,
   "metadata": {},
   "outputs": [],
   "source": [
    "#%run \"/home/nramvinojen/Programs/Workbench/24Jan2019/PrimeCode/Model_Predict_100FV_DNN_8class.ipynb"
   ]
  },
  {
   "cell_type": "code",
   "execution_count": 3,
   "metadata": {},
   "outputs": [
    {
     "name": "stdout",
     "output_type": "stream",
     "text": [
      "Loaded model from disk\n",
      "_________________________________________________________________\n",
      "Layer (type)                 Output Shape              Param #   \n",
      "=================================================================\n",
      "dense_1 (Dense)              (None, 28)                2828      \n",
      "_________________________________________________________________\n",
      "dropout_1 (Dropout)          (None, 28)                0         \n",
      "_________________________________________________________________\n",
      "dense_2 (Dense)              (None, 8)                 232       \n",
      "=================================================================\n",
      "Total params: 3,060\n",
      "Trainable params: 3,060\n",
      "Non-trainable params: 0\n",
      "_________________________________________________________________\n",
      "\n",
      "[[4 0 0 0 0 1 1 0]\n",
      " [0 3 1 0 0 1 1 0]\n",
      " [1 1 3 0 0 0 1 0]\n",
      " [0 0 1 2 3 0 0 0]\n",
      " [0 0 1 0 3 2 0 0]\n",
      " [0 0 1 0 2 3 0 0]\n",
      " [0 0 2 0 0 0 4 0]\n",
      " [0 0 0 1 0 0 0 5]]\n"
     ]
    },
    {
     "data": {
      "image/png": "[encoded data removed]",
      "text/plain": [
       "<Figure size 432x288 with 2 Axes>"
      ]
     },
     "metadata": {},
     "output_type": "display_data"
    },
    {
     "name": "stdout",
     "output_type": "stream",
     "text": [
      "\n",
      " Summary for each class:\n",
      "             precision    recall  f1-score   support\n",
      "\n",
      "          0       0.80      0.67      0.73         6\n",
      "          1       0.75      0.50      0.60         6\n",
      "          2       0.33      0.50      0.40         6\n",
      "          3       0.67      0.33      0.44         6\n",
      "          4       0.38      0.50      0.43         6\n",
      "          5       0.43      0.50      0.46         6\n",
      "          6       0.57      0.67      0.62         6\n",
      "          7       1.00      0.83      0.91         6\n",
      "\n",
      "avg / total       0.62      0.56      0.57        48\n",
      "\n",
      "\n",
      "[[13  2  3]\n",
      " [ 3 15  0]\n",
      " [ 2  1  9]]\n"
     ]
    },
    {
     "data": {
      "image/png": "[encoded data removed]",
      "text/plain": [
       "<Figure size 432x288 with 2 Axes>"
      ]
     },
     "metadata": {},
     "output_type": "display_data"
    },
    {
     "name": "stdout",
     "output_type": "stream",
     "text": [
      "\n",
      " Summary for each class:\n",
      "             precision    recall  f1-score   support\n",
      "\n",
      "          0       0.72      0.72      0.72        18\n",
      "          1       0.83      0.83      0.83        18\n",
      "          2       0.75      0.75      0.75        12\n",
      "\n",
      "avg / total       0.77      0.77      0.77        48\n",
      "\n"
     ]
    }
   ],
   "source": [
    "%run \"/home/nramvinojen/Programs/Workbench/24Jan2019/PrimeCode/Predict_100FV_DNN_8Class.ipynb\""
   ]
  },
  {
   "cell_type": "code",
   "execution_count": 4,
   "metadata": {},
   "outputs": [
    {
     "name": "stdout",
     "output_type": "stream",
     "text": [
      "\n",
      "[[13  2  3]\n",
      " [ 3 15  0]\n",
      " [ 2  1  9]]\n"
     ]
    },
    {
     "data": {
      "image/png": "[encoded data removed]",
      "text/plain": [
       "<Figure size 432x288 with 2 Axes>"
      ]
     },
     "metadata": {},
     "output_type": "display_data"
    },
    {
     "name": "stdout",
     "output_type": "stream",
     "text": [
      "\n",
      " Summary for each class:\n",
      "             precision    recall  f1-score   support\n",
      "\n",
      "          0       0.72      0.72      0.72        18\n",
      "          1       0.83      0.83      0.83        18\n",
      "          2       0.75      0.75      0.75        12\n",
      "\n",
      "avg / total       0.77      0.77      0.77        48\n",
      "\n"
     ]
    }
   ],
   "source": [
    "%run \"/home/nramvinojen/Programs/Workbench/24Jan2019/PrimeCode/Result_8to3Class.ipynb\""
   ]
  },
  {
   "cell_type": "code",
   "execution_count": null,
   "metadata": {},
   "outputs": [],
   "source": []
  }
 ],
 "metadata": {
  "kernelspec": {
   "display_name": "Python 3",
   "language": "python",
   "name": "python3"
  },
  "language_info": {
   "codemirror_mode": {
    "name": "ipython",
    "version": 3
   },
   "file_extension": ".py",
   "mimetype": "text/x-python",
   "name": "python",
   "nbconvert_exporter": "python",
   "pygments_lexer": "ipython3",
   "version": "3.6.7"
  }
 },
 "nbformat": 4,
 "nbformat_minor": 2
}
