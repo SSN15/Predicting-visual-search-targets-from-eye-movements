{
 "cells": [
  {
   "cell_type": "code",
   "execution_count": 1,
   "metadata": {},
   "outputs": [],
   "source": [
    "CodePath = \"/home/nramvinojen/Programs/Workbench/24Jan2019/\"\n",
    "FV_count = 2048\n",
    "RunFolder = \"28Jan2019\""
   ]
  },
  {
   "cell_type": "code",
   "execution_count": null,
   "metadata": {},
   "outputs": [],
   "source": [
    "#%run \"/home/nramvinojen/Programs/Workbench/24Jan2019/SecondCode/MakeFolderStructure.ipynb\""
   ]
  },
  {
   "cell_type": "code",
   "execution_count": null,
   "metadata": {},
   "outputs": [],
   "source": [
    "FramesFolder = \"Frames_LoG1\"\n",
    "width = 224\n",
    "height = 224\n",
    "#%run \"/home/nramvinojen/Programs/Workbench/24Jan2019/PrimeCode/ResizeFrames.ipynb\""
   ]
  },
  {
   "cell_type": "code",
   "execution_count": null,
   "metadata": {},
   "outputs": [],
   "source": [
    "#%run \"/home/nramvinojen/Programs/Workbench/24Jan2019/PrimeCode/ResnetFV2048.ipynb\""
   ]
  },
  {
   "cell_type": "code",
   "execution_count": null,
   "metadata": {},
   "outputs": [],
   "source": [
    "####%run \"/home/nramvinojen/Programs/Workbench/24Jan2019/PrimeCode/Model_DNN_Predict_Resnet2048FV_8class.ipynb\""
   ]
  },
  {
   "cell_type": "code",
   "execution_count": 5,
   "metadata": {},
   "outputs": [
    {
     "name": "stdout",
     "output_type": "stream",
     "text": [
      "FV len :2048\n",
      "Folder :28Jan2019\n",
      "Loaded model from disk\n",
      "_________________________________________________________________\n",
      "Layer (type)                 Output Shape              Param #   \n",
      "=================================================================\n",
      "dense_55 (Dense)             (None, 80)                163920    \n",
      "_________________________________________________________________\n",
      "dropout_37 (Dropout)         (None, 80)                0         \n",
      "_________________________________________________________________\n",
      "dense_56 (Dense)             (None, 40)                3240      \n",
      "_________________________________________________________________\n",
      "dropout_38 (Dropout)         (None, 40)                0         \n",
      "_________________________________________________________________\n",
      "dense_57 (Dense)             (None, 8)                 328       \n",
      "=================================================================\n",
      "Total params: 167,488\n",
      "Trainable params: 167,488\n",
      "Non-trainable params: 0\n",
      "_________________________________________________________________\n",
      "\n",
      "[[4 1 1 0 0 2 0 1]\n",
      " [3 2 2 0 0 0 1 1]\n",
      " [1 0 3 2 1 1 1 0]\n",
      " [0 1 1 5 0 1 0 1]\n",
      " [0 0 0 1 6 1 0 1]\n",
      " [1 0 1 0 2 3 0 2]\n",
      " [1 1 1 0 0 0 6 0]\n",
      " [0 1 1 2 1 0 0 4]]\n"
     ]
    },
    {
     "data": {
      "image/png": "[encoded data removed]",
      "text/plain": [
       "<Figure size 432x288 with 2 Axes>"
      ]
     },
     "metadata": {},
     "output_type": "display_data"
    },
    {
     "name": "stdout",
     "output_type": "stream",
     "text": [
      "\n",
      " Summary for each class:\n",
      "             precision    recall  f1-score   support\n",
      "\n",
      "          0       0.40      0.44      0.42         9\n",
      "          1       0.33      0.22      0.27         9\n",
      "          2       0.30      0.33      0.32         9\n",
      "          3       0.50      0.56      0.53         9\n",
      "          4       0.60      0.67      0.63         9\n",
      "          5       0.38      0.33      0.35         9\n",
      "          6       0.75      0.67      0.71         9\n",
      "          7       0.40      0.44      0.42         9\n",
      "\n",
      "avg / total       0.46      0.46      0.46        72\n",
      "\n"
     ]
    }
   ],
   "source": [
    "%run \"/home/nramvinojen/Programs/Workbench/24Jan2019/PrimeCode/Predict_2048FV_DNN_8Class.ipynb\""
   ]
  },
  {
   "cell_type": "code",
   "execution_count": 6,
   "metadata": {},
   "outputs": [
    {
     "name": "stdout",
     "output_type": "stream",
     "text": [
      "\n",
      "[[17  6  4]\n",
      " [ 4 19  4]\n",
      " [ 5  3 10]]\n"
     ]
    },
    {
     "data": {
      "image/png": "[encoded data removed]",
      "text/plain": [
       "<Figure size 432x288 with 2 Axes>"
      ]
     },
     "metadata": {},
     "output_type": "display_data"
    },
    {
     "name": "stdout",
     "output_type": "stream",
     "text": [
      "\n",
      " Summary for each class:\n",
      "             precision    recall  f1-score   support\n",
      "\n",
      "          0       0.65      0.63      0.64        27\n",
      "          1       0.68      0.70      0.69        27\n",
      "          2       0.56      0.56      0.56        18\n",
      "\n",
      "avg / total       0.64      0.64      0.64        72\n",
      "\n"
     ]
    }
   ],
   "source": [
    "%run \"/home/nramvinojen/Programs/Workbench/24Jan2019/PrimeCode/Result_8to3Class.ipynb\""
   ]
  },
  {
   "cell_type": "code",
   "execution_count": null,
   "metadata": {},
   "outputs": [],
   "source": []
  }
 ],
 "metadata": {
  "kernelspec": {
   "display_name": "Python 3",
   "language": "python",
   "name": "python3"
  },
  "language_info": {
   "codemirror_mode": {
    "name": "ipython",
    "version": 3
   },
   "file_extension": ".py",
   "mimetype": "text/x-python",
   "name": "python",
   "nbconvert_exporter": "python",
   "pygments_lexer": "ipython3",
   "version": "3.6.7"
  }
 },
 "nbformat": 4,
 "nbformat_minor": 2
}
