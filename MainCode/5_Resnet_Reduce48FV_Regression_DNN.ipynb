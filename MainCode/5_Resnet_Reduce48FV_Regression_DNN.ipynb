{
 "cells": [
  {
   "cell_type": "code",
   "execution_count": 1,
   "metadata": {},
   "outputs": [],
   "source": [
    "CodePath = \"/home/nramvinojen/Programs/Workbench/24Jan2019/\"\n",
    "FV_count = 48\n",
    "RunFolder = \"28Jan2019\""
   ]
  },
  {
   "cell_type": "code",
   "execution_count": null,
   "metadata": {},
   "outputs": [],
   "source": [
    "#%run \"/home/nramvinojen/Programs/Workbench/24Jan2019/SecondCode/MakeFolderStructure.ipynb\""
   ]
  },
  {
   "cell_type": "code",
   "execution_count": null,
   "metadata": {},
   "outputs": [],
   "source": [
    "FramesFolder = \"Frames_LoG1\"\n",
    "width = 224\n",
    "height = 224\n",
    "#%run \"/home/nramvinojen/Programs/Workbench/24Jan2019/PrimeCode/ResizeFrames.ipynb\""
   ]
  },
  {
   "cell_type": "code",
   "execution_count": null,
   "metadata": {},
   "outputs": [],
   "source": [
    "#%run \"/home/nramvinojen/Programs/Workbench/24Jan2019/PrimeCode/ResnetFV2048.ipynb\""
   ]
  },
  {
   "cell_type": "code",
   "execution_count": 4,
   "metadata": {},
   "outputs": [
    {
     "name": "stdout",
     "output_type": "stream",
     "text": [
      "Loaded model from disk\n",
      "_________________________________________________________________\n",
      "Layer (type)                 Output Shape              Param #   \n",
      "=================================================================\n",
      "A1 (InputLayer)              (None, 2048)              0         \n",
      "_________________________________________________________________\n",
      "A2 (Dense)                   (None, 92)                188508    \n",
      "_________________________________________________________________\n",
      "A3 (Dropout)                 (None, 92)                0         \n",
      "_________________________________________________________________\n",
      "A4 (Dense)                   (None, 48)                4464      \n",
      "_________________________________________________________________\n",
      "A5 (Dropout)                 (None, 48)                0         \n",
      "=================================================================\n",
      "Total params: 192,972\n",
      "Trainable params: 192,972\n",
      "Non-trainable params: 0\n",
      "_________________________________________________________________\n"
     ]
    }
   ],
   "source": [
    "#%run \"/home/nramvinojen/Programs/Workbench/24Jan2019/PrimeCode/ReduceFV_2048toNewFVlen.ipynb\""
   ]
  },
  {
   "cell_type": "code",
   "execution_count": 2,
   "metadata": {},
   "outputs": [
    {
     "name": "stderr",
     "output_type": "stream",
     "text": [
      "/usr/local/lib/python3.6/dist-packages/h5py/__init__.py:36: FutureWarning: Conversion of the second argument of issubdtype from `float` to `np.floating` is deprecated. In future, it will be treated as `np.float64 == np.dtype(float).type`.\n",
      "  from ._conv import register_converters as _register_converters\n",
      "Using TensorFlow backend.\n"
     ]
    },
    {
     "name": "stdout",
     "output_type": "stream",
     "text": [
      "FV len :48\n",
      "Folder :28Jan2019\n",
      "Regression output of the Test data is saved as csv \n",
      "Regression output of the Test data is saved as txt \n",
      "Regression output of the Test data is saved as csv \n",
      "Regression output of the Test data is saved as txt \n"
     ]
    }
   ],
   "source": [
    "%run \"/home/nramvinojen/Programs/Workbench/24Jan2019/PrimeCode/Regression.ipynb\""
   ]
  },
  {
   "cell_type": "code",
   "execution_count": 8,
   "metadata": {},
   "outputs": [
    {
     "name": "stdout",
     "output_type": "stream",
     "text": [
      "FV len :48\n",
      "Folder :28Jan2019\n",
      "WithNeg :No\n",
      "Loaded model from disk\n",
      "Predicted Labels\n",
      "2 2 2 2 3 3 2 2 3 2 1 3 2 3 1 2 1 1 2 1 2 2 4 2 3 1 3 3 2 4 3 1 1 2 1 3 2 3 1 4 2 3 1 3 2 2 1 1 1 3 3 2 4 1 3 2 2 3 2 3 3 1 3 3 2 4 3 3 1 1 1 3 Actual Labels\n",
      "0 0 0 0 0 0 0 0 0 1 1 1 1 1 1 1 1 1 2 2 2 2 2 2 2 2 2 3 3 3 3 3 3 3 3 3 4 4 4 4 4 4 4 4 4 5 5 5 5 5 5 5 5 5 6 6 6 6 6 6 6 6 6 7 7 7 7 7 7 7 7 7 \n",
      "[[0 0 6 3 0 0 0 0]\n",
      " [0 4 3 2 0 0 0 0]\n",
      " [0 2 4 2 1 0 0 0]\n",
      " [0 3 2 3 1 0 0 0]\n",
      " [0 2 3 3 1 0 0 0]\n",
      " [0 4 2 2 1 0 0 0]\n",
      " [0 1 3 5 0 0 0 0]\n",
      " [0 3 1 4 1 0 0 0]]\n"
     ]
    },
    {
     "data": {
      "image/png": "[encoded data removed]",
      "text/plain": [
       "<Figure size 432x288 with 2 Axes>"
      ]
     },
     "metadata": {},
     "output_type": "display_data"
    },
    {
     "name": "stdout",
     "output_type": "stream",
     "text": [
      "\n",
      " Summary for each class:\n",
      "             precision    recall  f1-score   support\n",
      "\n",
      "          0       0.00      0.00      0.00         9\n",
      "          1       0.21      0.44      0.29         9\n",
      "          2       0.17      0.44      0.24         9\n",
      "          3       0.12      0.33      0.18         9\n",
      "          4       0.20      0.11      0.14         9\n",
      "          5       0.00      0.00      0.00         9\n",
      "          6       0.00      0.00      0.00         9\n",
      "          7       0.00      0.00      0.00         9\n",
      "\n",
      "avg / total       0.09      0.17      0.11        72\n",
      "\n"
     ]
    },
    {
     "name": "stderr",
     "output_type": "stream",
     "text": [
      "/usr/local/lib/python3.6/dist-packages/sklearn/metrics/classification.py:1135: UndefinedMetricWarning: Precision and F-score are ill-defined and being set to 0.0 in labels with no predicted samples.\n",
      "  'precision', 'predicted', average, warn_for)\n"
     ]
    }
   ],
   "source": [
    "WithNeg = \"No\" # \"No\" or  \"Yes\"\n",
    "%run \"/home/nramvinojen/Programs/Workbench/24Jan2019/PrimeCode/Classifier_DNN_Resnet48FV_8Class.ipynb\""
   ]
  },
  {
   "cell_type": "code",
   "execution_count": 9,
   "metadata": {},
   "outputs": [
    {
     "name": "stdout",
     "output_type": "stream",
     "text": [
      "\n",
      "[[19  8  0]\n",
      " [16 11  0]\n",
      " [ 8 10  0]]\n"
     ]
    },
    {
     "data": {
      "image/png": "[encoded data removed]",
      "text/plain": [
       "<Figure size 432x288 with 2 Axes>"
      ]
     },
     "metadata": {},
     "output_type": "display_data"
    },
    {
     "name": "stdout",
     "output_type": "stream",
     "text": [
      "\n",
      " Summary for each class:\n",
      "             precision    recall  f1-score   support\n",
      "\n",
      "          0       0.44      0.70      0.54        27\n",
      "          1       0.38      0.41      0.39        27\n",
      "          2       0.00      0.00      0.00        18\n",
      "\n",
      "avg / total       0.31      0.42      0.35        72\n",
      "\n"
     ]
    },
    {
     "name": "stderr",
     "output_type": "stream",
     "text": [
      "/usr/local/lib/python3.6/dist-packages/sklearn/metrics/classification.py:1135: UndefinedMetricWarning: Precision and F-score are ill-defined and being set to 0.0 in labels with no predicted samples.\n",
      "  'precision', 'predicted', average, warn_for)\n"
     ]
    }
   ],
   "source": [
    "%run \"/home/nramvinojen/Programs/Workbench/24Jan2019/PrimeCode/Result_8to3Class.ipynb\""
   ]
  },
  {
   "cell_type": "code",
   "execution_count": null,
   "metadata": {},
   "outputs": [],
   "source": []
  }
 ],
 "metadata": {
  "kernelspec": {
   "display_name": "Python 3",
   "language": "python",
   "name": "python3"
  },
  "language_info": {
   "codemirror_mode": {
    "name": "ipython",
    "version": 3
   },
   "file_extension": ".py",
   "mimetype": "text/x-python",
   "name": "python",
   "nbconvert_exporter": "python",
   "pygments_lexer": "ipython3",
   "version": "3.6.7"
  }
 },
 "nbformat": 4,
 "nbformat_minor": 2
}
